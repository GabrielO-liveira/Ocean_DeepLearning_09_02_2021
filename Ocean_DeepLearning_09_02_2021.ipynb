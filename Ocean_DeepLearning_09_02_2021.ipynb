{
  "nbformat": 4,
  "nbformat_minor": 0,
  "metadata": {
    "colab": {
      "name": "Ocean_DeepLearning_09_02_2021.ipynb",
      "provenance": [],
      "authorship_tag": "ABX9TyM1dSXhyt0mRrFWTDe2ZH1Y",
      "include_colab_link": true
    },
    "kernelspec": {
      "name": "python3",
      "display_name": "Python 3"
    }
  },
  "cells": [
    {
      "cell_type": "markdown",
      "metadata": {
        "id": "view-in-github",
        "colab_type": "text"
      },
      "source": [
        "<a href=\"https://colab.research.google.com/github/paulosalvatore/Ocean_DeepLearning_09_02_2021/blob/main/Ocean_DeepLearning_09_02_2021.ipynb\" target=\"_parent\"><img src=\"https://colab.research.google.com/assets/colab-badge.svg\" alt=\"Open In Colab\"/></a>"
      ]
    },
    {
      "cell_type": "code",
      "metadata": {
        "id": "7-aTJoVl7krv"
      },
      "source": [
        "import keras # Importa a biblioteca Keras\r\n",
        "from keras.datasets import mnist # Base de Dados MNIST\r\n",
        "from tensorflow.python.keras import Sequential # Arquitetura da nossa rede neura\r\n",
        "from tensorflow.python.keras.layers import Dense, Dropout # Neurônio (base da rede) e Regularizador (evita overfitting)\r\n",
        "from tensorflow.compat.v1.keras.optimizers import RMSprop # Otimizador (back propagation)"
      ],
      "execution_count": 4,
      "outputs": []
    },
    {
      "cell_type": "code",
      "metadata": {
        "id": "FQGh4Gg68H7N"
      },
      "source": [
        ""
      ],
      "execution_count": null,
      "outputs": []
    }
  ]
}